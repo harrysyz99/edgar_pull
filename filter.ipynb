{
 "cells": [
  {
   "cell_type": "code",
   "execution_count": 28,
   "id": "055df3d6-260d-424a-99db-a2ebd7906c1e",
   "metadata": {},
   "outputs": [
    {
     "name": "stdout",
     "output_type": "stream",
     "text": [
      "https://www.sec.gov/Archives/edgar/data/1000045/0001564590-21-005399.txt\n",
      "5\n",
      "\n"
     ]
    },
    {
     "name": "stderr",
     "output_type": "stream",
     "text": [
      "[WDM] - ====== WebDriver manager ======\n",
      "[WDM] - Current google-chrome version is 102.0.5005\n",
      "[WDM] - Get LATEST chromedriver version for 102.0.5005 google-chrome\n",
      "[WDM] - Driver [/Users/harryzhang/.wdm/drivers/chromedriver/mac64_m1/102.0.5005.61/chromedriver] found in cache\n",
      "/var/folders/z5/102n99n926x7011cmbz3_q7w0000gn/T/ipykernel_2260/2771561604.py:18: DeprecationWarning: executable_path has been deprecated, please pass in a Service object\n",
      "  driver = webdriver.Chrome(ChromeDriverManager().install())\n",
      "/var/folders/z5/102n99n926x7011cmbz3_q7w0000gn/T/ipykernel_2260/2771561604.py:35: DeprecationWarning: find_element_by_xpath is deprecated. Please use find_element(by=By.XPATH, value=xpath) instead\n",
      "  openurl = driver.find_element_by_xpath('/html/body/pre').text\n"
     ]
    },
    {
     "name": "stdout",
     "output_type": "stream",
     "text": [
      "Not found! 2022-06-19 21:19:44  -->  2022-06-19 21:19:54 \n",
      "\n",
      "https://www.sec.gov/Archives/edgar/data/1000045/0001398344-21-003309.txt\n",
      "5\n",
      "\n"
     ]
    },
    {
     "name": "stderr",
     "output_type": "stream",
     "text": [
      "[WDM] - ====== WebDriver manager ======\n",
      "[WDM] - Current google-chrome version is 102.0.5005\n",
      "[WDM] - Get LATEST chromedriver version for 102.0.5005 google-chrome\n",
      "[WDM] - Driver [/Users/harryzhang/.wdm/drivers/chromedriver/mac64_m1/102.0.5005.61/chromedriver] found in cache\n"
     ]
    },
    {
     "name": "stdout",
     "output_type": "stream",
     "text": [
      "There is one ! 2022-06-19 21:19:56  -->  2022-06-19 21:20:01 \n",
      "\n",
      "https://www.sec.gov/Archives/edgar/data/1000045/0001496701-21-000001.txt\n",
      "5\n",
      "\n"
     ]
    },
    {
     "name": "stderr",
     "output_type": "stream",
     "text": [
      "[WDM] - ====== WebDriver manager ======\n",
      "[WDM] - Current google-chrome version is 102.0.5005\n",
      "[WDM] - Get LATEST chromedriver version for 102.0.5005 google-chrome\n",
      "[WDM] - Driver [/Users/harryzhang/.wdm/drivers/chromedriver/mac64_m1/102.0.5005.61/chromedriver] found in cache\n"
     ]
    },
    {
     "name": "stdout",
     "output_type": "stream",
     "text": [
      "Not found! 2022-06-19 21:20:03  -->  2022-06-19 21:20:11 \n",
      "\n",
      "https://www.sec.gov/Archives/edgar/data/1000045/0001398344-21-002769.txt\n",
      "5\n",
      "\n"
     ]
    },
    {
     "name": "stderr",
     "output_type": "stream",
     "text": [
      "[WDM] - ====== WebDriver manager ======\n",
      "[WDM] - Current google-chrome version is 102.0.5005\n",
      "[WDM] - Get LATEST chromedriver version for 102.0.5005 google-chrome\n",
      "[WDM] - Driver [/Users/harryzhang/.wdm/drivers/chromedriver/mac64_m1/102.0.5005.61/chromedriver] found in cache\n"
     ]
    },
    {
     "name": "stdout",
     "output_type": "stream",
     "text": [
      "There is one ! 2022-06-19 21:20:13  -->  2022-06-19 21:20:18 \n",
      "\n",
      "https://www.sec.gov/Archives/edgar/data/1000045/0001564590-21-002004.txt\n",
      "5\n",
      "\n"
     ]
    },
    {
     "name": "stderr",
     "output_type": "stream",
     "text": [
      "[WDM] - ====== WebDriver manager ======\n",
      "[WDM] - Current google-chrome version is 102.0.5005\n",
      "[WDM] - Get LATEST chromedriver version for 102.0.5005 google-chrome\n",
      "[WDM] - Driver [/Users/harryzhang/.wdm/drivers/chromedriver/mac64_m1/102.0.5005.61/chromedriver] found in cache\n"
     ]
    },
    {
     "name": "stdout",
     "output_type": "stream",
     "text": [
      "Not found! 2022-06-19 21:20:19  -->  2022-06-19 21:20:26 \n",
      "\n",
      "https://www.sec.gov/Archives/edgar/data/1000045/0001564590-21-003940.txt\n",
      "5\n",
      "\n"
     ]
    },
    {
     "name": "stderr",
     "output_type": "stream",
     "text": [
      "[WDM] - ====== WebDriver manager ======\n",
      "[WDM] - Current google-chrome version is 102.0.5005\n",
      "[WDM] - Get LATEST chromedriver version for 102.0.5005 google-chrome\n",
      "[WDM] - Driver [/Users/harryzhang/.wdm/drivers/chromedriver/mac64_m1/102.0.5005.61/chromedriver] found in cache\n"
     ]
    },
    {
     "name": "stdout",
     "output_type": "stream",
     "text": [
      "Not found! 2022-06-19 21:20:27  -->  2022-06-19 21:20:33 \n",
      "\n",
      "https://www.sec.gov/Archives/edgar/data/1000045/0001564590-21-011365.txt\n",
      "5\n",
      "\n"
     ]
    },
    {
     "name": "stderr",
     "output_type": "stream",
     "text": [
      "[WDM] - ====== WebDriver manager ======\n",
      "[WDM] - Current google-chrome version is 102.0.5005\n",
      "[WDM] - Get LATEST chromedriver version for 102.0.5005 google-chrome\n",
      "[WDM] - Driver [/Users/harryzhang/.wdm/drivers/chromedriver/mac64_m1/102.0.5005.61/chromedriver] found in cache\n"
     ]
    },
    {
     "name": "stdout",
     "output_type": "stream",
     "text": [
      "Not found! 2022-06-19 21:20:34  -->  2022-06-19 21:20:40 \n",
      "\n",
      "https://www.sec.gov/Archives/edgar/data/1000045/0001104659-21-013485.txt\n",
      "5\n",
      "\n"
     ]
    },
    {
     "name": "stderr",
     "output_type": "stream",
     "text": [
      "[WDM] - ====== WebDriver manager ======\n",
      "[WDM] - Current google-chrome version is 102.0.5005\n",
      "[WDM] - Get LATEST chromedriver version for 102.0.5005 google-chrome\n",
      "[WDM] - Driver [/Users/harryzhang/.wdm/drivers/chromedriver/mac64_m1/102.0.5005.61/chromedriver] found in cache\n"
     ]
    },
    {
     "name": "stdout",
     "output_type": "stream",
     "text": [
      "Not found! 2022-06-19 21:20:42  -->  2022-06-19 21:20:45 \n",
      "\n",
      "https://www.sec.gov/Archives/edgar/data/1000045/0001037389-21-000122.txt\n",
      "5\n",
      "\n"
     ]
    },
    {
     "name": "stderr",
     "output_type": "stream",
     "text": [
      "[WDM] - ====== WebDriver manager ======\n",
      "[WDM] - Current google-chrome version is 102.0.5005\n",
      "[WDM] - Get LATEST chromedriver version for 102.0.5005 google-chrome\n",
      "[WDM] - Driver [/Users/harryzhang/.wdm/drivers/chromedriver/mac64_m1/102.0.5005.61/chromedriver] found in cache\n"
     ]
    },
    {
     "name": "stdout",
     "output_type": "stream",
     "text": [
      "Not found! 2022-06-19 21:20:47  -->  2022-06-19 21:20:53 \n",
      "\n",
      "https://www.sec.gov/Archives/edgar/data/1000045/0000354204-21-000071.txt\n",
      "5\n",
      "\n"
     ]
    },
    {
     "name": "stderr",
     "output_type": "stream",
     "text": [
      "[WDM] - ====== WebDriver manager ======\n",
      "[WDM] - Current google-chrome version is 102.0.5005\n",
      "[WDM] - Get LATEST chromedriver version for 102.0.5005 google-chrome\n",
      "[WDM] - Driver [/Users/harryzhang/.wdm/drivers/chromedriver/mac64_m1/102.0.5005.61/chromedriver] found in cache\n"
     ]
    },
    {
     "name": "stdout",
     "output_type": "stream",
     "text": [
      "Not found! 2022-06-19 21:20:54  -->  2022-06-19 21:20:59 \n",
      "\n",
      "2021-02-16\n",
      "6\n",
      "\n"
     ]
    },
    {
     "name": "stderr",
     "output_type": "stream",
     "text": [
      "[WDM] - ====== WebDriver manager ======\n",
      "[WDM] - Current google-chrome version is 102.0.5005\n",
      "[WDM] - Get LATEST chromedriver version for 102.0.5005 google-chrome\n",
      "[WDM] - Driver [/Users/harryzhang/.wdm/drivers/chromedriver/mac64_m1/102.0.5005.61/chromedriver] found in cache\n"
     ]
    },
    {
     "ename": "InvalidArgumentException",
     "evalue": "Message: invalid argument\n  (Session info: chrome=102.0.5005.115)\nStacktrace:\n0   chromedriver                        0x0000000100fb9170 chromedriver + 4477296\n1   chromedriver                        0x0000000100f50c18 chromedriver + 4049944\n2   chromedriver                        0x0000000100ba2c10 chromedriver + 191504\n3   chromedriver                        0x0000000100b8fc70 chromedriver + 113776\n4   chromedriver                        0x0000000100b8ea90 chromedriver + 109200\n5   chromedriver                        0x0000000100b8ec10 chromedriver + 109584\n6   chromedriver                        0x0000000100ba458c chromedriver + 198028\n7   chromedriver                        0x0000000100bfae9c chromedriver + 552604\n8   chromedriver                        0x0000000100bfa85c chromedriver + 551004\n9   chromedriver                        0x0000000100bc6f58 chromedriver + 339800\n10  chromedriver                        0x0000000100f8ebd4 chromedriver + 4303828\n11  chromedriver                        0x0000000100f93094 chromedriver + 4321428\n12  chromedriver                        0x0000000100f97600 chromedriver + 4339200\n13  chromedriver                        0x0000000100f93af4 chromedriver + 4324084\n14  chromedriver                        0x0000000100f7252c chromedriver + 4187436\n15  chromedriver                        0x0000000100fab488 chromedriver + 4420744\n16  chromedriver                        0x0000000100fab5ec chromedriver + 4421100\n17  chromedriver                        0x0000000100fbf92c chromedriver + 4503852\n18  libsystem_pthread.dylib             0x00000001be28426c _pthread_start + 148\n19  libsystem_pthread.dylib             0x00000001be27f08c thread_start + 8\n",
     "output_type": "error",
     "traceback": [
      "\u001B[0;31m---------------------------------------------------------------------------\u001B[0m",
      "\u001B[0;31mInvalidArgumentException\u001B[0m                  Traceback (most recent call last)",
      "Input \u001B[0;32mIn [28]\u001B[0m, in \u001B[0;36m<cell line: 10>\u001B[0;34m()\u001B[0m\n\u001B[1;32m     21\u001B[0m \u001B[38;5;28;01mif\u001B[39;00m \u001B[38;5;129;01mnot\u001B[39;00m r:\n\u001B[1;32m     22\u001B[0m     \u001B[38;5;28;01mcontinue\u001B[39;00m\n\u001B[0;32m---> 23\u001B[0m \u001B[43mdriver\u001B[49m\u001B[38;5;241;43m.\u001B[39;49m\u001B[43mget\u001B[49m\u001B[43m(\u001B[49m\u001B[43mr\u001B[49m\u001B[43m[\u001B[49m\u001B[38;5;241;43m4\u001B[39;49m\u001B[43m]\u001B[49m\u001B[43m)\u001B[49m\n\u001B[1;32m     24\u001B[0m time\u001B[38;5;241m.\u001B[39msleep(\u001B[38;5;241m3\u001B[39m \u001B[38;5;241m+\u001B[39m random\u001B[38;5;241m.\u001B[39mrandom() \u001B[38;5;241m*\u001B[39m \u001B[38;5;241m3\u001B[39m)\n\u001B[1;32m     25\u001B[0m \u001B[38;5;66;03m# txturl= driver.find_element_by_xpath('/html/body/pre').text\u001B[39;00m\n\u001B[1;32m     26\u001B[0m     \u001B[38;5;66;03m# try: \u001B[39;00m\n\u001B[1;32m     27\u001B[0m \u001B[38;5;66;03m# txturl = driver.find_element_by_xpath('//*[@id=\"formDiv\"]/div/table/tbody/tr[4]/td[3]/a').get_attribute('href')\u001B[39;00m\n\u001B[0;32m   (...)\u001B[0m\n\u001B[1;32m     33\u001B[0m     \u001B[38;5;66;03m#     except:\u001B[39;00m\n\u001B[1;32m     34\u001B[0m     \u001B[38;5;66;03m#         txturl = driver.find_element_by_xpath('//*[@id=\"formDiv\"]/div/table/tbody/tr[2]/td[3]/a').get_attribute('href')\u001B[39;00m\n",
      "File \u001B[0;32m~/opt/anaconda3/lib/python3.9/site-packages/selenium/webdriver/remote/webdriver.py:442\u001B[0m, in \u001B[0;36mWebDriver.get\u001B[0;34m(self, url)\u001B[0m\n\u001B[1;32m    438\u001B[0m \u001B[38;5;28;01mdef\u001B[39;00m \u001B[38;5;21mget\u001B[39m(\u001B[38;5;28mself\u001B[39m, url: \u001B[38;5;28mstr\u001B[39m) \u001B[38;5;241m-\u001B[39m\u001B[38;5;241m>\u001B[39m \u001B[38;5;28;01mNone\u001B[39;00m:\n\u001B[1;32m    439\u001B[0m     \u001B[38;5;124;03m\"\"\"\u001B[39;00m\n\u001B[1;32m    440\u001B[0m \u001B[38;5;124;03m    Loads a web page in the current browser session.\u001B[39;00m\n\u001B[1;32m    441\u001B[0m \u001B[38;5;124;03m    \"\"\"\u001B[39;00m\n\u001B[0;32m--> 442\u001B[0m     \u001B[38;5;28;43mself\u001B[39;49m\u001B[38;5;241;43m.\u001B[39;49m\u001B[43mexecute\u001B[49m\u001B[43m(\u001B[49m\u001B[43mCommand\u001B[49m\u001B[38;5;241;43m.\u001B[39;49m\u001B[43mGET\u001B[49m\u001B[43m,\u001B[49m\u001B[43m \u001B[49m\u001B[43m{\u001B[49m\u001B[38;5;124;43m'\u001B[39;49m\u001B[38;5;124;43murl\u001B[39;49m\u001B[38;5;124;43m'\u001B[39;49m\u001B[43m:\u001B[49m\u001B[43m \u001B[49m\u001B[43murl\u001B[49m\u001B[43m}\u001B[49m\u001B[43m)\u001B[49m\n",
      "File \u001B[0;32m~/opt/anaconda3/lib/python3.9/site-packages/selenium/webdriver/remote/webdriver.py:430\u001B[0m, in \u001B[0;36mWebDriver.execute\u001B[0;34m(self, driver_command, params)\u001B[0m\n\u001B[1;32m    428\u001B[0m response \u001B[38;5;241m=\u001B[39m \u001B[38;5;28mself\u001B[39m\u001B[38;5;241m.\u001B[39mcommand_executor\u001B[38;5;241m.\u001B[39mexecute(driver_command, params)\n\u001B[1;32m    429\u001B[0m \u001B[38;5;28;01mif\u001B[39;00m response:\n\u001B[0;32m--> 430\u001B[0m     \u001B[38;5;28;43mself\u001B[39;49m\u001B[38;5;241;43m.\u001B[39;49m\u001B[43merror_handler\u001B[49m\u001B[38;5;241;43m.\u001B[39;49m\u001B[43mcheck_response\u001B[49m\u001B[43m(\u001B[49m\u001B[43mresponse\u001B[49m\u001B[43m)\u001B[49m\n\u001B[1;32m    431\u001B[0m     response[\u001B[38;5;124m'\u001B[39m\u001B[38;5;124mvalue\u001B[39m\u001B[38;5;124m'\u001B[39m] \u001B[38;5;241m=\u001B[39m \u001B[38;5;28mself\u001B[39m\u001B[38;5;241m.\u001B[39m_unwrap_value(\n\u001B[1;32m    432\u001B[0m         response\u001B[38;5;241m.\u001B[39mget(\u001B[38;5;124m'\u001B[39m\u001B[38;5;124mvalue\u001B[39m\u001B[38;5;124m'\u001B[39m, \u001B[38;5;28;01mNone\u001B[39;00m))\n\u001B[1;32m    433\u001B[0m     \u001B[38;5;28;01mreturn\u001B[39;00m response\n",
      "File \u001B[0;32m~/opt/anaconda3/lib/python3.9/site-packages/selenium/webdriver/remote/errorhandler.py:247\u001B[0m, in \u001B[0;36mErrorHandler.check_response\u001B[0;34m(self, response)\u001B[0m\n\u001B[1;32m    245\u001B[0m         alert_text \u001B[38;5;241m=\u001B[39m value[\u001B[38;5;124m'\u001B[39m\u001B[38;5;124malert\u001B[39m\u001B[38;5;124m'\u001B[39m]\u001B[38;5;241m.\u001B[39mget(\u001B[38;5;124m'\u001B[39m\u001B[38;5;124mtext\u001B[39m\u001B[38;5;124m'\u001B[39m)\n\u001B[1;32m    246\u001B[0m     \u001B[38;5;28;01mraise\u001B[39;00m exception_class(message, screen, stacktrace, alert_text)  \u001B[38;5;66;03m# type: ignore[call-arg]  # mypy is not smart enough here\u001B[39;00m\n\u001B[0;32m--> 247\u001B[0m \u001B[38;5;28;01mraise\u001B[39;00m exception_class(message, screen, stacktrace)\n",
      "\u001B[0;31mInvalidArgumentException\u001B[0m: Message: invalid argument\n  (Session info: chrome=102.0.5005.115)\nStacktrace:\n0   chromedriver                        0x0000000100fb9170 chromedriver + 4477296\n1   chromedriver                        0x0000000100f50c18 chromedriver + 4049944\n2   chromedriver                        0x0000000100ba2c10 chromedriver + 191504\n3   chromedriver                        0x0000000100b8fc70 chromedriver + 113776\n4   chromedriver                        0x0000000100b8ea90 chromedriver + 109200\n5   chromedriver                        0x0000000100b8ec10 chromedriver + 109584\n6   chromedriver                        0x0000000100ba458c chromedriver + 198028\n7   chromedriver                        0x0000000100bfae9c chromedriver + 552604\n8   chromedriver                        0x0000000100bfa85c chromedriver + 551004\n9   chromedriver                        0x0000000100bc6f58 chromedriver + 339800\n10  chromedriver                        0x0000000100f8ebd4 chromedriver + 4303828\n11  chromedriver                        0x0000000100f93094 chromedriver + 4321428\n12  chromedriver                        0x0000000100f97600 chromedriver + 4339200\n13  chromedriver                        0x0000000100f93af4 chromedriver + 4324084\n14  chromedriver                        0x0000000100f7252c chromedriver + 4187436\n15  chromedriver                        0x0000000100fab488 chromedriver + 4420744\n16  chromedriver                        0x0000000100fab5ec chromedriver + 4421100\n17  chromedriver                        0x0000000100fbf92c chromedriver + 4503852\n18  libsystem_pthread.dylib             0x00000001be28426c _pthread_start + 148\n19  libsystem_pthread.dylib             0x00000001be27f08c thread_start + 8\n"
     ]
    }
   ],
   "source": [
    "import requests\n",
    "import csv\n",
    "import random\n",
    "import time\n",
    "from selenium import webdriver\n",
    "from webdriver_manager.chrome import ChromeDriverManager\n",
    "\n",
    "test = \"0001667769\"\n",
    " \n",
    "with open('log2.csv', 'w', newline='') as log:\n",
    "    logwriter = csv.writer(log)\n",
    "    with open('log3.csv', newline='') as infile:\n",
    "        records = csv.reader(infile)\n",
    "        for r in records:\n",
    "            print(r[4])\n",
    "            print(len(r))\n",
    "            log_row = r.copy()\n",
    "            driver = webdriver.Chrome(ChromeDriverManager().install())\n",
    "            start_time = time.strftime('%Y-%m-%d %H:%M:%S', time.localtime())\n",
    "            # try:\n",
    "            if not r:\n",
    "                continue\n",
    "            driver.get(r[4])\n",
    "            time.sleep(3 + random.random() * 3)\n",
    "            # txturl= driver.find_element_by_xpath('/html/body/pre').text\n",
    "                # try: \n",
    "            # txturl = driver.find_element_by_xpath('//*[@id=\"formDiv\"]/div/table/tbody/tr[4]/td[3]/a').get_attribute('href')\n",
    "            # txturl = driver.get(r[4])\n",
    "                # end_time = time.strftime('%Y-%m-%d %H:%M:%S', time.localtime())\n",
    "                # except: \n",
    "                #     try:\n",
    "                #         txturl = driver.find_element_by_xpath('//*[@id=\"formDiv\"]/div/table/tbody/tr[3]/td[3]/a').get_attribute('href')\n",
    "                #     except:\n",
    "                #         txturl = driver.find_element_by_xpath('//*[@id=\"formDiv\"]/div/table/tbody/tr[2]/td[3]/a').get_attribute('href')\n",
    "            openurl = driver.find_element_by_xpath('/html/body/pre').text\n",
    "            # print(openurl)\n",
    "            if(test in openurl):\n",
    "                end_time = time.strftime('%Y-%m-%d %H:%M:%S', time.localtime())\n",
    "                print('There is one !', start_time, ' --> ', end_time, '\\n')\n",
    "                log_row = log_row + [start_time, end_time,r[4]]\n",
    "                    \n",
    "            else:\n",
    "                end_time = time.strftime('%Y-%m-%d %H:%M:%S', time.localtime())\n",
    "                print('Not found!', start_time, ' --> ', end_time, '\\n')\n",
    "                \n",
    "#             except:\n",
    "#                 end_time = time.strftime('%Y-%m-%d %H:%M:%S', time.localtime())\n",
    "#                 end_time = time.strftime('%Y-%m-%d %H:%M:%S', time.localtime())\n",
    "#                 print('Error!', start_time, ' --> ', end_time, '\\n')\n",
    "#                 log_row = log_row + [start_time, end_time, 'ERROR!']\n",
    "            \n",
    "            \n",
    "            # driver.quit()\n",
    " \n",
    "            logwriter.writerow(log_row)  "
   ]
  },
  {
   "cell_type": "code",
   "execution_count": null,
   "id": "729248bb-e22c-4382-8bd0-041b05c56289",
   "metadata": {},
   "outputs": [],
   "source": [
    "//*[@id=\"formDiv\"]/div/table/tbody/tr[2]/td[3]/a\n",
    "//*[@id=\"formDiv\"]/div/table/tbody/tr[3]/td[3]/a\n",
    "//*[@id=\"formDiv\"]/div/table/tbody/tr[4]/td[3]/a"
   ]
  }
 ],
 "metadata": {
  "kernelspec": {
   "display_name": "Python 3 (ipykernel)",
   "language": "python",
   "name": "python3"
  },
  "language_info": {
   "codemirror_mode": {
    "name": "ipython",
    "version": 3
   },
   "file_extension": ".py",
   "mimetype": "text/x-python",
   "name": "python",
   "nbconvert_exporter": "python",
   "pygments_lexer": "ipython3",
   "version": "3.9.12"
  }
 },
 "nbformat": 4,
 "nbformat_minor": 5
}