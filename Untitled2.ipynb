{
 "cells": [
  {
   "cell_type": "code",
   "execution_count": 1,
   "id": "2fcf7141-4e2e-4804-9049-3dbc844a6f3d",
   "metadata": {},
   "outputs": [
    {
     "name": "stdout",
     "output_type": "stream",
     "text": [
      "['https://www.sec.gov/Archives/edgar/full-index/2021/QTR1/master.idx', 'https://www.sec.gov/Archives/edgar/full-index/2021/QTR2/master.idx', 'https://www.sec.gov/Archives/edgar/full-index/2021/QTR3/master.idx', 'https://www.sec.gov/Archives/edgar/full-index/2021/QTR4/master.idx', 'https://www.sec.gov/Archives/edgar/full-index/2022/QTR1/master.idx', 'https://www.sec.gov/Archives/edgar/full-index/2022/QTR2/master.idx']\n"
     ]
    }
   ],
   "source": [
    "# Generate the list of index files archived in EDGAR since start_year (earliest: 1993) until the most recent quarter\n",
    "import datetime\n",
    "\n",
    "current_year = datetime.date.today().year\n",
    "current_quarter = (datetime.date.today().month - 1) // 3 + 1\n",
    "start_year = 2021\n",
    "years = list(range(start_year, current_year))\n",
    "quarters = ['QTR1', 'QTR2', 'QTR3', 'QTR4']\n",
    "history = [(y, q) for y in years for q in quarters]\n",
    "for i in range(1, current_quarter + 1):\n",
    "    history.append((current_year, 'QTR%d' % i))\n",
    "urls = ['https://www.sec.gov/Archives/edgar/full-index/%d/%s/master.idx' % (x[0], x[1]) for x in history]\n",
    "urls.sort()\n",
    "print(urls)"
   ]
  },
  {
   "cell_type": "code",
   "execution_count": 3,
   "id": "b19a5ac2-6cbc-4487-a177-6d962f16d9fd",
   "metadata": {},
   "outputs": [
    {
     "name": "stdout",
     "output_type": "stream",
     "text": [
      "https://www.sec.gov/Archives/edgar/full-index/2021/QTR1/master.idx downloaded and wrote to SQLite\n",
      "Downloading from : =>      https://www.sec.gov/Archives/edgar/full-index/2021/QTR2/master.idx\n",
      "https://www.sec.gov/Archives/edgar/full-index/2021/QTR2/master.idx downloaded and wrote to SQLite\n",
      "Downloading from : =>      https://www.sec.gov/Archives/edgar/full-index/2021/QTR3/master.idx\n",
      "https://www.sec.gov/Archives/edgar/full-index/2021/QTR3/master.idx downloaded and wrote to SQLite\n",
      "Downloading from : =>      https://www.sec.gov/Archives/edgar/full-index/2021/QTR4/master.idx\n",
      "https://www.sec.gov/Archives/edgar/full-index/2021/QTR4/master.idx downloaded and wrote to SQLite\n",
      "Downloading from : =>      https://www.sec.gov/Archives/edgar/full-index/2022/QTR1/master.idx\n",
      "https://www.sec.gov/Archives/edgar/full-index/2022/QTR1/master.idx downloaded and wrote to SQLite\n",
      "Downloading from : =>      https://www.sec.gov/Archives/edgar/full-index/2022/QTR2/master.idx\n",
      "https://www.sec.gov/Archives/edgar/full-index/2022/QTR2/master.idx downloaded and wrote to SQLite\n",
      "Downloading from : =>      https://www.sec.gov/Archives/edgar/full-index/2021/QTR1/master.idx\n",
      "https://www.sec.gov/Archives/edgar/full-index/2021/QTR1/master.idx downloaded and wrote to SQLite\n",
      "Downloading from : =>      https://www.sec.gov/Archives/edgar/full-index/2021/QTR2/master.idx\n",
      "https://www.sec.gov/Archives/edgar/full-index/2021/QTR2/master.idx downloaded and wrote to SQLite\n",
      "Downloading from : =>      https://www.sec.gov/Archives/edgar/full-index/2021/QTR3/master.idx\n",
      "https://www.sec.gov/Archives/edgar/full-index/2021/QTR3/master.idx downloaded and wrote to SQLite\n",
      "Downloading from : =>      https://www.sec.gov/Archives/edgar/full-index/2021/QTR4/master.idx\n",
      "https://www.sec.gov/Archives/edgar/full-index/2021/QTR4/master.idx downloaded and wrote to SQLite\n",
      "Downloading from : =>      https://www.sec.gov/Archives/edgar/full-index/2022/QTR1/master.idx\n",
      "https://www.sec.gov/Archives/edgar/full-index/2022/QTR1/master.idx downloaded and wrote to SQLite\n",
      "Downloading from : =>      https://www.sec.gov/Archives/edgar/full-index/2022/QTR2/master.idx\n",
      "https://www.sec.gov/Archives/edgar/full-index/2022/QTR2/master.idx downloaded and wrote to SQLite\n"
     ]
    }
   ],
   "source": [
    "# Download index files and write content into SQLite\n",
    "import sqlite3\n",
    "import requests\n",
    "import pandas as pd\n",
    "con = sqlite3.connect('edgar_htm_idx.db')\n",
    "cur = con.cursor()\n",
    "cur.execute('DROP TABLE IF EXISTS idx')\n",
    "cur.execute('CREATE TABLE idx (conm TEXT, type TEXT, cik TEXT, date TEXT, path TEXT)')\n",
    "\n",
    "\n",
    "# for url in urls:\n",
    "#     lines = requests.get(url).text.splitlines()\n",
    "#     nameloc = lines[7].find('Company Name')\n",
    "#     typeloc = lines[7].find('Form Type')\n",
    "#     cikloc = lines[7].find('CIK')\n",
    "#     dateloc = lines[7].find('Date Filed')\n",
    "#     urlloc = lines[7].find('URL')\n",
    "#     records = [tuple([line[:typeloc].strip(), line[typeloc:cikloc].strip(), line[cikloc:dateloc].strip(),\n",
    "#                       line[dateloc:urlloc].strip(), line[urlloc:].strip()]) for line in lines[9:]]\n",
    "#     cur.executemany('INSERT INTO idx VALUES (?, ?, ?, ?, ?)', records)\n",
    "#     print(url, 'downloaded and wrote to SQLite')\n",
    "\n",
    "# con.commit()\n",
    "# con.close()\n",
    "\n",
    "for url in urls:\n",
    "    lines = requests.get(url, allow_redirects=True, headers={\"User-Agent\": \"Mozilla/5.0\"}).text.splitlines()\n",
    "    print(\"Downloading from : =>      \"+ url)\n",
    "    nameloc = lines[7].find('Company Name')\n",
    "    typeloc = lines[7].find('Form Type')\n",
    "    cikloc = lines[7].find('CIK')\n",
    "    dateloc = lines[7].find('Date Filed')\n",
    "    urlloc = lines[7].find('URL')\n",
    "    records = [tuple([line[:typeloc].strip(), line[typeloc:cikloc].strip(), line[cikloc:dateloc].strip(),\n",
    "                      line[dateloc:urlloc].strip(), line[urlloc:].strip()]) for line in lines[11:]]\n",
    "    cur.executemany('INSERT INTO idx VALUES (?, ?, ?, ?, ?)', records)\n",
    "    print(url, 'downloaded and wrote to SQLite')\n",
    "\n",
    "con.commit()\n",
    "con.close()\n",
    "\n",
    "\n",
    "# Write SQLite database to Stata\n"
   ]
  },
  {
   "cell_type": "code",
   "execution_count": 6,
   "id": "358680ab-cd6d-4af7-becb-0fa1e13917e0",
   "metadata": {},
   "outputs": [],
   "source": [
    "import csv\n",
    "import pandas\n",
    "from sqlalchemy import create_engine\n",
    "with open('log3.csv', 'w', newline='') as log:\n",
    "    logwriter = csv.writer(log)\n",
    "    idx = 0\n",
    "    engine = create_engine('sqlite:///edgar_htm_idx.db')\n",
    "    with engine.connect() as conn, conn.begin():\n",
    "        data = pandas.read_sql_table('idx', conn)\n",
    "        # print(data)\n",
    "        for sub in  data.values:\n",
    "            # print(sub)\n",
    "            idx +=1\n",
    "            x = sub[0].replace(\"|\",\",\").split(\",\")\n",
    "            # print(type(x))\n",
    "            x[-1] = \"https://www.sec.gov/Archives/\"+x[-1]+\"t\"\n",
    "            logwriter.writerow(x)\n",
    "            if(idx > 10):\n",
    "                break\n",
    "    \n",
    "    # ta = pd.DataFrame([sub.replace(\"|\",\",\") for sub in  data])\n",
    "    # print(ta)\n",
    "    # ta.to_csv('data.csv',sep = \",\")\n",
    "    # data.to_txt('edgar_htm_idx.csv')"
   ]
  },
  {
   "cell_type": "code",
   "execution_count": 17,
   "id": "07ac9bb5-3c22-4202-a66f-d535a34e9af3",
   "metadata": {},
   "outputs": [
    {
     "name": "stdout",
     "output_type": "stream",
     "text": [
      "      0\n",
      "0  conm\n",
      "1  type\n",
      "2   cik\n",
      "3  date\n",
      "4  path\n"
     ]
    }
   ],
   "source": [
    "import pandas\n",
    "from sqlalchemy import create_engine\n",
    "\n",
    "\n",
    "engine = create_engine('sqlite:///edgar_htm_idx.db')\n",
    "with engine.connect() as conn, conn.begin():\n",
    "    data = pandas.read_sql_table('idx', conn)\n",
    "    \n",
    "    ta = pd.DataFrame([sub.split(\"|\") for sub in  data])\n",
    "    print(ta)\n",
    "    ta.to_csv('data.csv',sep = \",\")\n",
    "    # data.to_txt('edgar_htm_idx.csv')"
   ]
  }
 ],
 "metadata": {
  "kernelspec": {
   "display_name": "Python 3 (ipykernel)",
   "language": "python",
   "name": "python3"
  },
  "language_info": {
   "codemirror_mode": {
    "name": "ipython",
    "version": 3
   },
   "file_extension": ".py",
   "mimetype": "text/x-python",
   "name": "python",
   "nbconvert_exporter": "python",
   "pygments_lexer": "ipython3",
   "version": "3.9.12"
  }
 },
 "nbformat": 4,
 "nbformat_minor": 5
}